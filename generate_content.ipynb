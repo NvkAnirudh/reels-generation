{
 "cells": [
  {
   "cell_type": "code",
   "execution_count": 114,
   "metadata": {},
   "outputs": [],
   "source": [
    "from dotenv import load_dotenv\n",
    "from openai import OpenAI\n",
    "import openai\n",
    "import os\n",
    "openai_client = OpenAI()\n",
    "\n",
    "load_dotenv()\n",
    "openai.api_key = os.getenv('OPENAI_API_KEY')"
   ]
  },
  {
   "cell_type": "code",
   "execution_count": 115,
   "metadata": {},
   "outputs": [],
   "source": [
    "def LLMResponse(prompt):\n",
    "    # Chat Text Template\n",
    "    completion = openai_client.chat.completions.create(\n",
    "        model=\"gpt-4o-mini\",\n",
    "        messages=[\n",
    "            {\"role\": \"system\", \"content\": \"You are a helpful assistant knowledgeable in AI/ML concepts.\"},\n",
    "            {\n",
    "                \"role\": \"user\",\n",
    "                \"content\": prompt\n",
    "            }\n",
    "        ]\n",
    "    )\n",
    "    return completion"
   ]
  },
  {
   "cell_type": "code",
   "execution_count": 116,
   "metadata": {},
   "outputs": [],
   "source": [
    "# prompt = \"Suggest an AI/ML topic that can be explained in under 150 words. Please provide only the topic without a description.\"\n",
    "# topic_response = chat_completion(prompt)\n",
    "\n",
    "\n",
    "# Chat Text Template\n",
    "# completion = client.chat.completions.create(\n",
    "#     model=\"gpt-4o-mini\",\n",
    "#     messages=[\n",
    "#         {\"role\": \"system\", \"content\": \"You are a helpful assistant knowledgeable in AI/ML concepts.\"},\n",
    "#         {\n",
    "#             \"role\": \"user\",\n",
    "#             \"content\": \"Suggest an AI/ML topic that can be explained in under 150 words. Please provide only the topic without a description.\"\n",
    "#         }\n",
    "#     ]\n",
    "# )"
   ]
  },
  {
   "cell_type": "code",
   "execution_count": 117,
   "metadata": {},
   "outputs": [],
   "source": [
    "# topic = topic_response.choices[0].message.content"
   ]
  },
  {
   "cell_type": "markdown",
   "metadata": {},
   "source": []
  },
  {
   "cell_type": "code",
   "execution_count": 118,
   "metadata": {},
   "outputs": [],
   "source": [
    "\n",
    "# completion_content = client.chat.completions.create(\n",
    "#     model=\"gpt-4o-mini\",\n",
    "#     messages=[\n",
    "#         {\"role\": \"system\", \"content\": \"You are a knowledgeable assistant in AI/ML concepts.\"},\n",
    "#         {\n",
    "#             \"role\":\"user\",\n",
    "#             \"content\":f\"Explain the concept of {topic} in simple terms in less than 150 words.\"\n",
    "#         }\n",
    "#     ]\n",
    "# )"
   ]
  },
  {
   "cell_type": "code",
   "execution_count": 119,
   "metadata": {},
   "outputs": [],
   "source": [
    "# content = completion_content.choices[0].message.content"
   ]
  },
  {
   "cell_type": "code",
   "execution_count": 120,
   "metadata": {},
   "outputs": [],
   "source": [
    "topic_history = set()\n",
    "\n",
    "def generate_content():\n",
    "    global topic_history\n",
    "    max_attempts = 5\n",
    "    \n",
    "    for _ in range(max_attempts):\n",
    "        # get the current topic\n",
    "        topic_response = LLMResponse(f\"Suggest a unique AI/ML topic that can be explained in under 150 words. Please provide only the topic without a description. Avoid these topics: {', '.join(topic_history)}.\")\n",
    "        topic = topic_response.choices[0].message.content.strip().lower()\n",
    "        \n",
    "        if topic not in topic_history:\n",
    "            topic_history.add(topic)\n",
    "            # get the current content\n",
    "            content_response = LLMResponse(f\"Explain the concept of {topic} in simple terms in less than 150 words.\")\n",
    "            content = content_response.choices[0].message.content\n",
    "            return topic, content\n",
    "    \n",
    "    raise Exception(\"Unable to generate a unique topic after multiple attempts\")"
   ]
  },
  {
   "cell_type": "code",
   "execution_count": 121,
   "metadata": {},
   "outputs": [
    {
     "name": "stdout",
     "output_type": "stream",
     "text": [
      "Data inserted with ID: 66ee30369103e9572dbc8d6b\n"
     ]
    }
   ],
   "source": [
    "from pymongo import MongoClient\n",
    "\n",
    "# MongoDB connection settings\n",
    "MONGO_URI = \"mongodb://localhost:27017/\"\n",
    "DATABASE_NAME = \"reels-content\"\n",
    "COLLECTION_NAME = \"content\"\n",
    "\n",
    "# Connect to MongoDB\n",
    "mongo_client = MongoClient(MONGO_URI)\n",
    "db = mongo_client[DATABASE_NAME]\n",
    "collection = db[COLLECTION_NAME]\n",
    "\n",
    "try:\n",
    "    topic, content = generate_content()\n",
    "except Exception as e:\n",
    "    print(f\"Error generating content: {e}\")\n",
    "    \n",
    "# # retrieving all the documents from the collection\n",
    "# documents = collection.find()\n",
    "\n",
    "# # checking if the current topic already exists in any of the documents to avoid redundancy\n",
    "# for document in documents:\n",
    "#     if topic in document:\n",
    "#         topic, content = generate_content()\n",
    "\n",
    "output_dict = {topic: content}\n",
    "\n",
    "# Insert dictionary into MongoDB\n",
    "result = collection.insert_one(output_dict)\n",
    "\n",
    "# Close MongoDB connection\n",
    "mongo_client.close()\n",
    "\n",
    "print(\"Data inserted with ID:\", result.inserted_id)"
   ]
  },
  {
   "cell_type": "code",
   "execution_count": null,
   "metadata": {},
   "outputs": [],
   "source": []
  }
 ],
 "metadata": {
  "kernelspec": {
   "display_name": "Python 3",
   "language": "python",
   "name": "python3"
  },
  "language_info": {
   "codemirror_mode": {
    "name": "ipython",
    "version": 3
   },
   "file_extension": ".py",
   "mimetype": "text/x-python",
   "name": "python",
   "nbconvert_exporter": "python",
   "pygments_lexer": "ipython3",
   "version": "3.10.14"
  }
 },
 "nbformat": 4,
 "nbformat_minor": 2
}
